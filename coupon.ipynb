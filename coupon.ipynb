{
  "cells": [
    {
      "cell_type": "markdown",
      "metadata": {
        "id": "CcUT6Fon_qRE"
      },
      "source": [
        "### Required Assignment 5.1: Will the Customer Accept the Coupon?\n",
        "\n",
        "**Context**\n",
        "\n",
        "Imagine driving through town and a coupon is delivered to your cell phone for a restaurant near where you are driving. Would you accept that coupon and take a short detour to the restaurant? Would you accept the coupon but use it on a subsequent trip? Would you ignore the coupon entirely? What if the coupon was for a bar instead of a restaurant? What about a coffee house? Would you accept a bar coupon with a minor passenger in the car? What about if it was just you and your partner in the car? Would weather impact the rate of acceptance? What about the time of day?\n",
        "\n",
        "Obviously, proximity to the business is a factor on whether the coupon is delivered to the driver or not, but what are the factors that determine whether a driver accepts the coupon once it is delivered to them? How would you determine whether a driver is likely to accept a coupon?\n",
        "\n",
        "**Overview**\n",
        "\n",
        "The goal of this project is to use what you know about visualizations and probability distributions to distinguish between customers who accepted a driving coupon versus those that did not.\n",
        "\n",
        "**Data**\n",
        "\n",
        "This data comes to us from the UCI Machine Learning repository and was collected via a survey on Amazon Mechanical Turk. The survey describes different driving scenarios including the destination, current time, weather, passenger, etc., and then ask the person whether he will accept the coupon if he is the driver. Answers that the user will drive there ‘right away’ or ‘later before the coupon expires’ are labeled as ‘Y = 1’ and answers ‘no, I do not want the coupon’ are labeled as ‘Y = 0’.  There are five different types of coupons -- less expensive restaurants (under \\$20), coffee houses, carry out & take away, bar, and more expensive restaurants (\\$20 - $50)."
      ]
    },
    {
      "cell_type": "markdown",
      "metadata": {
        "id": "1wORvMBJ_qRF"
      },
      "source": [
        "**Deliverables**\n",
        "\n",
        "Your final product should be a brief report that highlights the differences between customers who did and did not accept the coupons.  To explore the data you will utilize your knowledge of plotting, statistical summaries, and visualization using Python. You will publish your findings in a public facing github repository as your first portfolio piece.\n",
        "\n",
        "\n",
        "\n"
      ]
    },
    {
      "cell_type": "markdown",
      "metadata": {
        "id": "pG6_Ym6q_qRG"
      },
      "source": [
        "### Data Description\n",
        "Keep in mind that these values mentioned below are average values.\n",
        "\n",
        "The attributes of this data set include:\n",
        "1. User attributes\n",
        "    -  Gender: male, female\n",
        "    -  Age: below 21, 21 to 25, 26 to 30, etc.\n",
        "    -  Marital Status: single, married partner, unmarried partner, or widowed\n",
        "    -  Number of children: 0, 1, or more than 1\n",
        "    -  Education: high school, bachelors degree, associates degree, or graduate degree\n",
        "    -  Occupation: architecture & engineering, business & financial, etc.\n",
        "    -  Annual income: less than \\\\$12500, \\\\$12500 - \\\\$24999, \\\\$25000 - \\\\$37499, etc.\n",
        "    -  Number of times that he/she goes to a bar: 0, less than 1, 1 to 3, 4 to 8 or greater than 8\n",
        "    -  Number of times that he/she buys takeaway food: 0, less than 1, 1 to 3, 4 to 8 or greater\n",
        "    than 8\n",
        "    -  Number of times that he/she goes to a coffee house: 0, less than 1, 1 to 3, 4 to 8 or\n",
        "    greater than 8\n",
        "    -  Number of times that he/she eats at a restaurant with average expense less than \\\\$20 per\n",
        "    person: 0, less than 1, 1 to 3, 4 to 8 or greater than 8\n",
        "    -  Number of times that he/she goes to a bar: 0, less than 1, 1 to 3, 4 to 8 or greater than 8\n",
        "    \n",
        "\n",
        "2. Contextual attributes\n",
        "    - Driving destination: home, work, or no urgent destination\n",
        "    - Location of user, coupon and destination: we provide a map to show the geographical\n",
        "    location of the user, destination, and the venue, and we mark the distance between each\n",
        "    two places with time of driving. The user can see whether the venue is in the same\n",
        "    direction as the destination.\n",
        "    - Weather: sunny, rainy, or snowy\n",
        "    - Temperature: 30F, 55F, or 80F\n",
        "    - Time: 10AM, 2PM, or 6PM\n",
        "    - Passenger: alone, partner, kid(s), or friend(s)\n",
        "\n",
        "\n",
        "3. Coupon attributes\n",
        "    - time before it expires: 2 hours or one day"
      ]
    },
    {
      "cell_type": "code",
      "execution_count": null,
      "metadata": {
        "id": "dzNoP3o__qRG"
      },
      "outputs": [],
      "source": [
        "import matplotlib.pyplot as plt\n",
        "import seaborn as sns\n",
        "import pandas as pd\n",
        "import numpy as np"
      ]
    },
    {
      "cell_type": "markdown",
      "metadata": {
        "id": "Ct8pI1uE_qRG"
      },
      "source": [
        "### Problems\n",
        "\n",
        "Use the prompts below to get started with your data analysis.  \n",
        "\n",
        "1. Read in the `coupons.csv` file.\n",
        "\n",
        "\n"
      ]
    },
    {
      "cell_type": "code",
      "execution_count": 1,
      "metadata": {
        "id": "X0vbffYg_qRH",
        "colab": {
          "base_uri": "https://localhost:8080/",
          "height": 144
        },
        "outputId": "53c5ac91-f666-4dc8-aba1-c64a8979bf3f"
      },
      "outputs": [
        {
          "output_type": "error",
          "ename": "NameError",
          "evalue": "name 'pd' is not defined",
          "traceback": [
            "\u001b[0;31m---------------------------------------------------------------------------\u001b[0m",
            "\u001b[0;31mNameError\u001b[0m                                 Traceback (most recent call last)",
            "\u001b[0;32m<ipython-input-1-43ca530f6a98>\u001b[0m in \u001b[0;36m<cell line: 1>\u001b[0;34m()\u001b[0m\n\u001b[0;32m----> 1\u001b[0;31m \u001b[0mdata\u001b[0m \u001b[0;34m=\u001b[0m \u001b[0mpd\u001b[0m\u001b[0;34m.\u001b[0m\u001b[0mread_csv\u001b[0m\u001b[0;34m(\u001b[0m\u001b[0;34m'/coupons.csv'\u001b[0m\u001b[0;34m)\u001b[0m\u001b[0;34m\u001b[0m\u001b[0;34m\u001b[0m\u001b[0m\n\u001b[0m",
            "\u001b[0;31mNameError\u001b[0m: name 'pd' is not defined"
          ]
        }
      ],
      "source": [
        "data = pd.read_csv('/coupons.csv')"
      ]
    },
    {
      "cell_type": "code",
      "execution_count": 2,
      "metadata": {
        "id": "TXofQ_DF_qRH",
        "outputId": "33be58b7-a161-4ed1-b1cc-d872f016e6ac",
        "colab": {
          "base_uri": "https://localhost:8080/",
          "height": 144
        }
      },
      "outputs": [
        {
          "output_type": "error",
          "ename": "NameError",
          "evalue": "name 'data' is not defined",
          "traceback": [
            "\u001b[0;31m---------------------------------------------------------------------------\u001b[0m",
            "\u001b[0;31mNameError\u001b[0m                                 Traceback (most recent call last)",
            "\u001b[0;32m<ipython-input-2-304fa4ce4ebd>\u001b[0m in \u001b[0;36m<cell line: 1>\u001b[0;34m()\u001b[0m\n\u001b[0;32m----> 1\u001b[0;31m \u001b[0mdata\u001b[0m\u001b[0;34m.\u001b[0m\u001b[0mhead\u001b[0m\u001b[0;34m(\u001b[0m\u001b[0;34m)\u001b[0m\u001b[0;34m\u001b[0m\u001b[0;34m\u001b[0m\u001b[0m\n\u001b[0m",
            "\u001b[0;31mNameError\u001b[0m: name 'data' is not defined"
          ]
        }
      ],
      "source": [
        "data.head()"
      ]
    },
    {
      "cell_type": "markdown",
      "metadata": {
        "id": "GcDs78ZH_qRH"
      },
      "source": [
        "2. Investigate the dataset for missing or problematic data."
      ]
    },
    {
      "cell_type": "code",
      "execution_count": null,
      "metadata": {
        "id": "6CwL6oWj_qRH"
      },
      "outputs": [],
      "source": [
        "data.isnull().sum()"
      ]
    },
    {
      "cell_type": "markdown",
      "metadata": {
        "id": "bSdVSpYB_qRH"
      },
      "source": [
        "3. Decide what to do about your missing data -- drop, replace, other..."
      ]
    },
    {
      "cell_type": "code",
      "source": [
        "data = data.dropna(axis =0, subset = ['Bar','CoffeeHouse','CarryAway','RestaurantLessThan20','Restaurant20To50'])\n",
        "data = data.drop('car', axis=1)\n",
        "data.isnull().sum()"
      ],
      "metadata": {
        "id": "hy6MrvCPOYDp"
      },
      "execution_count": null,
      "outputs": []
    },
    {
      "cell_type": "markdown",
      "metadata": {
        "id": "YE6oJbXd_qRI"
      },
      "source": [
        "4. What proportion of the total observations chose to accept the coupon?\n",
        "\n"
      ]
    },
    {
      "cell_type": "code",
      "execution_count": null,
      "metadata": {
        "id": "86GGqBTv_qRI"
      },
      "outputs": [],
      "source": [
        "data['Y'].mean()"
      ]
    },
    {
      "cell_type": "markdown",
      "metadata": {
        "id": "vflz0DoE_qRI"
      },
      "source": [
        "5. Use a bar plot to visualize the `coupon` column."
      ]
    },
    {
      "cell_type": "code",
      "source": [
        "sns.countplot(x='coupon', data=data)\n",
        "plt.show()"
      ],
      "metadata": {
        "id": "5vzAFIFaS8RT"
      },
      "execution_count": null,
      "outputs": []
    },
    {
      "cell_type": "markdown",
      "metadata": {
        "id": "Qw4lCyx2_qRI"
      },
      "source": [
        "6. Use a histogram to visualize the temperature column."
      ]
    },
    {
      "cell_type": "code",
      "execution_count": 3,
      "metadata": {
        "id": "Yg9Anv71_qRI",
        "colab": {
          "base_uri": "https://localhost:8080/",
          "height": 162
        },
        "outputId": "d8cc281d-564c-445d-d28b-7397be0e0f69"
      },
      "outputs": [
        {
          "output_type": "error",
          "ename": "NameError",
          "evalue": "name 'sns' is not defined",
          "traceback": [
            "\u001b[0;31m---------------------------------------------------------------------------\u001b[0m",
            "\u001b[0;31mNameError\u001b[0m                                 Traceback (most recent call last)",
            "\u001b[0;32m<ipython-input-3-57c7014d311f>\u001b[0m in \u001b[0;36m<cell line: 1>\u001b[0;34m()\u001b[0m\n\u001b[0;32m----> 1\u001b[0;31m \u001b[0msns\u001b[0m\u001b[0;34m.\u001b[0m\u001b[0mhistplot\u001b[0m\u001b[0;34m(\u001b[0m\u001b[0mdata\u001b[0m\u001b[0;34m[\u001b[0m\u001b[0;34m'temperature'\u001b[0m\u001b[0;34m]\u001b[0m\u001b[0;34m)\u001b[0m\u001b[0;34m\u001b[0m\u001b[0;34m\u001b[0m\u001b[0m\n\u001b[0m\u001b[1;32m      2\u001b[0m \u001b[0mplt\u001b[0m\u001b[0;34m.\u001b[0m\u001b[0mshow\u001b[0m\u001b[0;34m(\u001b[0m\u001b[0;34m)\u001b[0m\u001b[0;34m\u001b[0m\u001b[0;34m\u001b[0m\u001b[0m\n",
            "\u001b[0;31mNameError\u001b[0m: name 'sns' is not defined"
          ]
        }
      ],
      "source": [
        "sns.histplot(data['temperature'])\n",
        "plt.show()"
      ]
    },
    {
      "cell_type": "markdown",
      "metadata": {
        "id": "FupfgeJk_qRJ"
      },
      "source": [
        "**Investigating the Bar Coupons**\n",
        "\n",
        "Now, we will lead you through an exploration of just the bar related coupons.  \n",
        "\n",
        "1. Create a new `DataFrame` that contains just the bar coupons.\n"
      ]
    },
    {
      "cell_type": "code",
      "execution_count": null,
      "metadata": {
        "id": "tMBlWuGq_qRJ"
      },
      "outputs": [],
      "source": [
        "df_bar = data[data['coupon'] == 'Bar']"
      ]
    },
    {
      "cell_type": "markdown",
      "metadata": {
        "id": "8ue6uCqf_qRJ"
      },
      "source": [
        "2. What proportion of bar coupons were accepted?\n"
      ]
    },
    {
      "cell_type": "code",
      "execution_count": null,
      "metadata": {
        "id": "hSdte8Mi_qRK"
      },
      "outputs": [],
      "source": [
        "df_bar['Y'].mean()"
      ]
    },
    {
      "cell_type": "markdown",
      "metadata": {
        "id": "85nA_iEi_qRK"
      },
      "source": [
        "3. Compare the acceptance rate between those who went to a bar 3 or fewer times a month to those who went more.\n"
      ]
    },
    {
      "cell_type": "code",
      "execution_count": null,
      "metadata": {
        "id": "LBOrN-XM_qRK"
      },
      "outputs": [],
      "source": [
        "df_bar_less = df_bar[df_bar['Bar'].isin(['never','less1','1~3'])]\n",
        "df_bar_more = df_bar[~df_bar['Bar'].isin(['never','less1','1~3'])]\n",
        "\n",
        "df_bar_less_mean = df_bar_less['Y'].mean()\n",
        "df_bar_more_mean = df_bar_more['Y'].mean()\n",
        "\n",
        "print(df_bar_less_mean)\n",
        "print(df_bar_more_mean)"
      ]
    },
    {
      "cell_type": "markdown",
      "metadata": {
        "id": "RBgcQwH4_qRK"
      },
      "source": [
        "4. Compare the acceptance rate between drivers who go to a bar more than once a month and are over the age of 25 to the all others.  Is there a difference?\n"
      ]
    },
    {
      "cell_type": "markdown",
      "source": [],
      "metadata": {
        "id": "gJlZSLOgXwoX"
      }
    },
    {
      "cell_type": "code",
      "execution_count": null,
      "metadata": {
        "id": "bf28bbeX_qRK"
      },
      "outputs": [],
      "source": [
        "df_bar_over25 = df_bar[(~df_bar['age'].isin(['21','below21']))&(~df_bar['Bar'].isin(['1~3','never']))]\n",
        "df_other = df_bar[~(df_bar['age'].isin(['21','below21']) & df_bar['Bar'].isin(['1~3','never']))]\n",
        "\n",
        "\n",
        "print(df_bar_over25['Y'].mean())\n",
        "print(df_other['Y'].mean())\n"
      ]
    },
    {
      "cell_type": "markdown",
      "metadata": {
        "id": "S4RKT4PJ_qRK"
      },
      "source": [
        "5. Use the same process to compare the acceptance rate between drivers who go to bars more than once a month and had passengers that were not a kid and had occupations other than farming, fishing, or forestry.\n"
      ]
    },
    {
      "cell_type": "code",
      "execution_count": null,
      "metadata": {
        "id": "sENaI2Tg_qRK"
      },
      "outputs": [],
      "source": [
        "#try a different method\n",
        "def get_mean(df,feature1,condition1,feature2,condition2):\n",
        "    df_1 = df[df[feature1].isin(condition1) & df[feature2].isin(condition2)]\n",
        "    df_other = df[~(df[feature1].isin(condition1) & df[feature2].isin(condition2))]\n",
        "    return df_1['Y'].mean(), df_other['Y'].mean()\n",
        "\n",
        "\n",
        "get_mean(df_bar, 'age', ['21','below21'], 'Bar', ['1~3','never'])"
      ]
    },
    {
      "cell_type": "markdown",
      "metadata": {
        "id": "n2LIUTil_qRK"
      },
      "source": [
        "6. Compare the acceptance rates between those drivers who:\n",
        "\n",
        "- go to bars more than once a month, had passengers that were not a kid, and were not widowed *OR*\n",
        "- go to bars more than once a month and are under the age of 30 *OR*\n",
        "- go to cheap restaurants more than 4 times a month and income is less than 50K.\n",
        "\n"
      ]
    },
    {
      "cell_type": "code",
      "source": [
        "df_bar_no_kid_not_widowed = df_bar[(~df_bar['Bar'].isin(['never', 'less1', '1~3'])) & (~df_bar['has_children'].isin(['kids'])) & (~df_bar['maritalStatus'].isin(['widowed']))]\n",
        "df_bar_under30 = df_bar[(~df_bar['Bar'].isin(['never', 'less1', '1~3'])) & (df_bar['age'].isin(['below21', '21', '26', '31', '36']))]\n",
        "df_cheap_rest_low_income = data[(data['RestaurantLessThan20'].isin(['4~8', 'gt8'])) & (data['income'].isin(['Less than $12500', '$12500 - $24999', '$25000 - $37499', '$37500 - $49999']))]\n",
        "\n",
        "acceptance_rate_bar_no_kid_not_widowed = df_bar_no_kid_not_widowed['Y'].mean()\n",
        "acceptance_rate_bar_under30 = df_bar_under30['Y'].mean()\n",
        "acceptance_rate_cheap_rest_low_income = df_cheap_rest_low_income['Y'].mean()\n",
        "\n",
        "print(\"Acceptance rate for drivers who go to bars more than once a month, had passengers that were not a kid, and were not widowed:\", acceptance_rate_bar_no_kid_not_widowed)\n",
        "print(\"Acceptance rate for drivers who go to bars more than once a month and are under the age of 30:\", acceptance_rate_bar_under30)\n",
        "print(\"Acceptance rate for drivers who go to cheap restaurants more than 4 times a month and income is less than 50K:\", acceptance_rate_cheap_rest_low_income)\n"
      ],
      "metadata": {
        "id": "u3w16R1Dgt33"
      },
      "execution_count": null,
      "outputs": []
    },
    {
      "cell_type": "markdown",
      "metadata": {
        "id": "v3fL3QkO_qRK"
      },
      "source": [
        "7.  Based on these observations, what do you hypothesize about drivers who accepted the bar coupons?"
      ]
    },
    {
      "cell_type": "code",
      "source": [
        "# prompt: calculate the acceptance rate for different groups from all attribute columns for df_bar\n",
        "\n",
        "# Loop through all columns in df_bar\n",
        "for column in df_bar.columns:\n",
        "  # Skip the 'Y' column (target variable)\n",
        "  if column != 'Y':\n",
        "    print(f\"\\nAcceptance rate for different groups in '{column}' column:\")\n",
        "    # Get unique values in the column\n",
        "    unique_values = df_bar[column].unique()\n",
        "    for value in unique_values:\n",
        "      # Filter the DataFrame based on the current value\n",
        "      df_group = df_bar[df_bar[column] == value]\n",
        "      # Calculate the acceptance rate for the group\n",
        "      acceptance_rate = df_group['Y'].mean()\n",
        "      # Print the acceptance rate for the group\n",
        "      print(f\"  - Group '{value}': {acceptance_rate:.3f}\")\n",
        "\n"
      ],
      "metadata": {
        "id": "yTLq5h9XuGa-"
      },
      "execution_count": null,
      "outputs": []
    },
    {
      "cell_type": "markdown",
      "source": [
        "## Drivers with high probability to accept the coupon have the following characteristics:\n",
        "- destination is not work\n",
        "- passenger is not with kids or partner\n",
        "- weather is sunny\n",
        "- temperature is not too hot or too cold\n",
        "- Male is more likely to accept than female\n",
        "- age is less than 25\n",
        "- driver is not divorced or have a married partner, single particularly\n",
        "- with no kid\n",
        "- lower education tend to have higher tendency\n",
        "- The higher income, the less likely they accept the coupon\n",
        "- At least go to bar once a month"
      ],
      "metadata": {
        "id": "zuGP9DLEnyXH"
      }
    },
    {
      "cell_type": "code",
      "source": [],
      "metadata": {
        "id": "49rzjTSSrB5n"
      },
      "execution_count": null,
      "outputs": []
    },
    {
      "cell_type": "markdown",
      "metadata": {
        "id": "r4Hu1zOb_qRL"
      },
      "source": [
        "### Independent Investigation\n",
        "\n",
        "Using the bar coupon example as motivation, you are to explore one of the other coupon groups and try to determine the characteristics of passengers who accept the coupons.  "
      ]
    },
    {
      "cell_type": "code",
      "source": [
        "# prompt: what is the shortcut to find and replace a field with another in colab\n",
        "\n",
        "# Replace 'old_value' with the value you want to replace and 'new_value' with the value you want to replace it with.\n",
        "# 'column_name' should be replaced with the actual name of the column you want to modify.\n",
        "data['column_name'].replace('old_value', 'new_value', inplace=True)\n",
        "\n",
        "# Example:\n",
        "# Replace 'Female' with 'F' in the 'gender' column.\n",
        "data['gender'].replace('Female', 'F', inplace=True)\n"
      ],
      "metadata": {
        "id": "JGw4VfoSuoEp"
      },
      "execution_count": null,
      "outputs": []
    },
    {
      "cell_type": "code",
      "execution_count": null,
      "metadata": {
        "id": "0c71cQhu_qRL",
        "colab": {
          "base_uri": "https://localhost:8080/"
        },
        "outputId": "fb00fea5-3d64-4519-f2c3-3e58ce946f80"
      },
      "outputs": [
        {
          "output_type": "stream",
          "name": "stdout",
          "text": [
            "\n",
            "Acceptance rate for different groups in 'destination' column:\n",
            "  - Group 'No Urgent Place': 0.762\n",
            "  - Group 'Work': 0.661\n",
            "  - Group 'Home': 0.792\n",
            "\n",
            "Acceptance rate for different groups in 'passanger' column:\n",
            "  - Group 'Friend(s)': 0.760\n",
            "  - Group 'Alone': 0.732\n",
            "  - Group 'Kid(s)': 0.697\n",
            "  - Group 'Partner': 0.717\n",
            "\n",
            "Acceptance rate for different groups in 'weather' column:\n",
            "  - Group 'Sunny': 0.764\n",
            "  - Group 'Rainy': 0.611\n",
            "  - Group 'Snowy': 0.716\n",
            "\n",
            "Acceptance rate for different groups in 'temperature' column:\n",
            "  - Group '80': 0.731\n",
            "  - Group '55': 0.721\n",
            "  - Group '30': 0.761\n",
            "\n",
            "Acceptance rate for different groups in 'time' column:\n",
            "  - Group '10AM': 0.700\n",
            "  - Group '2PM': 0.866\n",
            "  - Group '7AM': 0.661\n",
            "  - Group '10PM': 0.768\n",
            "  - Group '6PM': 0.821\n",
            "\n",
            "Acceptance rate for different groups in 'coupon' column:\n",
            "  - Group 'Carry out & Take away': 0.738\n",
            "\n",
            "Acceptance rate for different groups in 'expiration' column:\n",
            "  - Group '2h': 0.663\n",
            "  - Group '1d': 0.786\n",
            "\n",
            "Acceptance rate for different groups in 'gender' column:\n",
            "  - Group 'Male': 0.762\n",
            "  - Group 'Female': 0.715\n",
            "\n",
            "Acceptance rate for different groups in 'age' column:\n",
            "  - Group '21': 0.740\n",
            "  - Group '46': 0.719\n",
            "  - Group '26': 0.735\n",
            "  - Group '31': 0.719\n",
            "  - Group '41': 0.730\n",
            "  - Group '50plus': 0.770\n",
            "  - Group '36': 0.745\n",
            "  - Group 'below21': 0.721\n",
            "\n",
            "Acceptance rate for different groups in 'maritalStatus' column:\n",
            "  - Group 'Single': 0.757\n",
            "  - Group 'Married partner': 0.729\n",
            "  - Group 'Unmarried partner': 0.709\n",
            "  - Group 'Divorced': 0.722\n",
            "  - Group 'Widowed': 0.850\n",
            "\n",
            "Acceptance rate for different groups in 'has_children' column:\n",
            "  - Group '0': 0.737\n",
            "  - Group '1': 0.739\n",
            "\n",
            "Acceptance rate for different groups in 'education' column:\n",
            "  - Group 'Bachelors degree': 0.721\n",
            "  - Group 'Some college - no degree': 0.761\n",
            "  - Group 'Associates degree': 0.832\n",
            "  - Group 'High School Graduate': 0.743\n",
            "  - Group 'Graduate degree (Masters or Doctorate)': 0.654\n",
            "  - Group 'Some High School': 0.938\n",
            "\n",
            "Acceptance rate for different groups in 'occupation' column:\n",
            "  - Group 'Architecture & Engineering': 0.633\n",
            "  - Group 'Student': 0.675\n",
            "  - Group 'Education&Training&Library': 0.701\n",
            "  - Group 'Unemployed': 0.752\n",
            "  - Group 'Healthcare Support': 0.833\n",
            "  - Group 'Healthcare Practitioners & Technical': 0.925\n",
            "  - Group 'Sales & Related': 0.717\n",
            "  - Group 'Management': 0.794\n",
            "  - Group 'Arts Design Entertainment Sports & Media': 0.693\n",
            "  - Group 'Computer & Mathematical': 0.713\n",
            "  - Group 'Life Physical Social Science': 0.500\n",
            "  - Group 'Personal Care & Service': 0.812\n",
            "  - Group 'Office & Administrative Support': 0.763\n",
            "  - Group 'Construction & Extraction': 0.964\n",
            "  - Group 'Legal': 0.537\n",
            "  - Group 'Retired': 0.702\n",
            "  - Group 'Community & Social Services': 0.727\n",
            "  - Group 'Installation Maintenance & Repair': 0.625\n",
            "  - Group 'Transportation & Material Moving': 0.816\n",
            "  - Group 'Business & Financial': 0.808\n",
            "  - Group 'Protective Service': 0.968\n",
            "  - Group 'Food Preparation & Serving Related': 0.828\n",
            "  - Group 'Production Occupations': 0.857\n",
            "  - Group 'Building & Grounds Cleaning & Maintenance': 1.000\n",
            "  - Group 'Farming Fishing & Forestry': 0.800\n",
            "\n",
            "Acceptance rate for different groups in 'income' column:\n",
            "  - Group '$62500 - $74999': 0.726\n",
            "  - Group '$12500 - $24999': 0.755\n",
            "  - Group '$75000 - $87499': 0.671\n",
            "  - Group '$50000 - $62499': 0.774\n",
            "  - Group '$37500 - $49999': 0.720\n",
            "  - Group '$25000 - $37499': 0.783\n",
            "  - Group '$100000 or More': 0.698\n",
            "  - Group '$87500 - $99999': 0.713\n",
            "  - Group 'Less than $12500': 0.749\n",
            "\n",
            "Acceptance rate for different groups in 'Bar' column:\n",
            "  - Group 'never': 0.752\n",
            "  - Group 'less1': 0.718\n",
            "  - Group '1~3': 0.762\n",
            "  - Group 'gt8': 0.556\n",
            "  - Group '4~8': 0.737\n",
            "\n",
            "Acceptance rate for different groups in 'CoffeeHouse' column:\n",
            "  - Group 'less1': 0.756\n",
            "  - Group '4~8': 0.732\n",
            "  - Group '1~3': 0.747\n",
            "  - Group 'gt8': 0.607\n",
            "  - Group 'never': 0.763\n",
            "\n",
            "Acceptance rate for different groups in 'CarryAway' column:\n",
            "  - Group '4~8': 0.754\n",
            "  - Group '1~3': 0.740\n",
            "  - Group 'gt8': 0.753\n",
            "  - Group 'less1': 0.679\n",
            "  - Group 'never': 0.786\n",
            "\n",
            "Acceptance rate for different groups in 'RestaurantLessThan20' column:\n",
            "  - Group '4~8': 0.746\n",
            "  - Group '1~3': 0.729\n",
            "  - Group 'less1': 0.724\n",
            "  - Group 'gt8': 0.755\n",
            "  - Group 'never': 0.865\n",
            "\n",
            "Acceptance rate for different groups in 'Restaurant20To50' column:\n",
            "  - Group 'less1': 0.738\n",
            "  - Group 'never': 0.735\n",
            "  - Group '1~3': 0.741\n",
            "  - Group 'gt8': 0.681\n",
            "  - Group '4~8': 0.743\n",
            "\n",
            "Acceptance rate for different groups in 'toCoupon_GEQ5min' column:\n",
            "  - Group '1': 0.738\n",
            "\n",
            "Acceptance rate for different groups in 'toCoupon_GEQ15min' column:\n",
            "  - Group '1': 0.729\n",
            "  - Group '0': 0.753\n",
            "\n",
            "Acceptance rate for different groups in 'toCoupon_GEQ25min' column:\n",
            "  - Group '0': 0.736\n",
            "  - Group '1': 0.751\n",
            "\n",
            "Acceptance rate for different groups in 'direction_same' column:\n",
            "  - Group '0': 0.754\n",
            "  - Group '1': 0.706\n",
            "\n",
            "Acceptance rate for different groups in 'direction_opp' column:\n",
            "  - Group '1': 0.754\n",
            "  - Group '0': 0.706\n"
          ]
        }
      ],
      "source": [
        "df_carry_out_take_away = data[data['coupon'] == 'Carry out & Take away']\n",
        "for column in df_carry_out_take_away.columns:\n",
        "  # Skip the 'Y' column (target variable)\n",
        "  if column != 'Y':\n",
        "    print(f\"\\nAcceptance rate for different groups in '{column}' column:\")\n",
        "    # Get unique values in the column\n",
        "    unique_values = df_carry_out_take_away[column].unique()\n",
        "    for value in unique_values:\n",
        "      # Filter the DataFrame based on the current value\n",
        "      df_group = df_carry_out_take_away[df_carry_out_take_away[column] == value]\n",
        "      # Calculate the acceptance rate for the group\n",
        "      acceptance_rate = df_group['Y'].mean()\n",
        "      # Print the acceptance rate for the group\n",
        "      print(f\"  - Group '{value}': {acceptance_rate:.3f}\")\n"
      ]
    },
    {
      "cell_type": "markdown",
      "source": [
        "# Driver who are more likely to accept coupons for Carry out & Take away have the following characteristics:\n",
        "- Destination: if the destination is work, drivers are less likely to accept but still with a high probability as 66%\n",
        "- Passengers: if the passengers are kis, the probability is a bit lower but still close to 70%\n",
        "- wheather: not rainy\n",
        "- time: not too early like 7AM\n",
        "- gender or age group have little influence on the probability\n",
        "- marrital status: widowed people are more likely to accept\n",
        "- Income: except for the group with extremly high income - more than 100k\n",
        "- frequency: at least to have carryout once a month"
      ],
      "metadata": {
        "id": "KlKPVVLyvhwz"
      }
    }
  ],
  "metadata": {
    "kernelspec": {
      "display_name": "Python 3 (ipykernel)",
      "language": "python",
      "name": "python3"
    },
    "language_info": {
      "codemirror_mode": {
        "name": "ipython",
        "version": 3
      },
      "file_extension": ".py",
      "mimetype": "text/x-python",
      "name": "python",
      "nbconvert_exporter": "python",
      "pygments_lexer": "ipython3",
      "version": "3.12.1"
    },
    "colab": {
      "provenance": [],
      "collapsed_sections": [
        "pG6_Ym6q_qRG"
      ],
      "toc_visible": true
    }
  },
  "nbformat": 4,
  "nbformat_minor": 0
}