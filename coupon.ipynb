{
  "cells": [
    {
      "cell_type": "markdown",
      "metadata": {
        "id": "CcUT6Fon_qRE"
      },
      "source": [
        "### Required Assignment 5.1: Will the Customer Accept the Coupon?\n",
        "\n",
        "**Context**\n",
        "\n",
        "Imagine driving through town and a coupon is delivered to your cell phone for a restaurant near where you are driving. Would you accept that coupon and take a short detour to the restaurant? Would you accept the coupon but use it on a subsequent trip? Would you ignore the coupon entirely? What if the coupon was for a bar instead of a restaurant? What about a coffee house? Would you accept a bar coupon with a minor passenger in the car? What about if it was just you and your partner in the car? Would weather impact the rate of acceptance? What about the time of day?\n",
        "\n",
        "Obviously, proximity to the business is a factor on whether the coupon is delivered to the driver or not, but what are the factors that determine whether a driver accepts the coupon once it is delivered to them? How would you determine whether a driver is likely to accept a coupon?\n",
        "\n",
        "**Overview**\n",
        "\n",
        "The goal of this project is to use what you know about visualizations and probability distributions to distinguish between customers who accepted a driving coupon versus those that did not.\n",
        "\n",
        "**Data**\n",
        "\n",
        "This data comes to us from the UCI Machine Learning repository and was collected via a survey on Amazon Mechanical Turk. The survey describes different driving scenarios including the destination, current time, weather, passenger, etc., and then ask the person whether he will accept the coupon if he is the driver. Answers that the user will drive there ‘right away’ or ‘later before the coupon expires’ are labeled as ‘Y = 1’ and answers ‘no, I do not want the coupon’ are labeled as ‘Y = 0’.  There are five different types of coupons -- less expensive restaurants (under \\$20), coffee houses, carry out & take away, bar, and more expensive restaurants (\\$20 - $50)."
      ]
    },
    {
      "cell_type": "markdown",
      "metadata": {
        "id": "1wORvMBJ_qRF"
      },
      "source": [
        "**Deliverables**\n",
        "\n",
        "Your final product should be a brief report that highlights the differences between customers who did and did not accept the coupons.  To explore the data you will utilize your knowledge of plotting, statistical summaries, and visualization using Python. You will publish your findings in a public facing github repository as your first portfolio piece.\n",
        "\n",
        "\n",
        "\n"
      ]
    },
    {
      "cell_type": "markdown",
      "metadata": {
        "id": "pG6_Ym6q_qRG"
      },
      "source": [
        "### Data Description\n",
        "Keep in mind that these values mentioned below are average values.\n",
        "\n",
        "The attributes of this data set include:\n",
        "1. User attributes\n",
        "    -  Gender: male, female\n",
        "    -  Age: below 21, 21 to 25, 26 to 30, etc.\n",
        "    -  Marital Status: single, married partner, unmarried partner, or widowed\n",
        "    -  Number of children: 0, 1, or more than 1\n",
        "    -  Education: high school, bachelors degree, associates degree, or graduate degree\n",
        "    -  Occupation: architecture & engineering, business & financial, etc.\n",
        "    -  Annual income: less than \\\\$12500, \\\\$12500 - \\\\$24999, \\\\$25000 - \\\\$37499, etc.\n",
        "    -  Number of times that he/she goes to a bar: 0, less than 1, 1 to 3, 4 to 8 or greater than 8\n",
        "    -  Number of times that he/she buys takeaway food: 0, less than 1, 1 to 3, 4 to 8 or greater\n",
        "    than 8\n",
        "    -  Number of times that he/she goes to a coffee house: 0, less than 1, 1 to 3, 4 to 8 or\n",
        "    greater than 8\n",
        "    -  Number of times that he/she eats at a restaurant with average expense less than \\\\$20 per\n",
        "    person: 0, less than 1, 1 to 3, 4 to 8 or greater than 8\n",
        "    -  Number of times that he/she goes to a bar: 0, less than 1, 1 to 3, 4 to 8 or greater than 8\n",
        "    \n",
        "\n",
        "2. Contextual attributes\n",
        "    - Driving destination: home, work, or no urgent destination\n",
        "    - Location of user, coupon and destination: we provide a map to show the geographical\n",
        "    location of the user, destination, and the venue, and we mark the distance between each\n",
        "    two places with time of driving. The user can see whether the venue is in the same\n",
        "    direction as the destination.\n",
        "    - Weather: sunny, rainy, or snowy\n",
        "    - Temperature: 30F, 55F, or 80F\n",
        "    - Time: 10AM, 2PM, or 6PM\n",
        "    - Passenger: alone, partner, kid(s), or friend(s)\n",
        "\n",
        "\n",
        "3. Coupon attributes\n",
        "    - time before it expires: 2 hours or one day"
      ]
    },
    {
      "cell_type": "code",
      "execution_count": 4,
      "metadata": {
        "id": "dzNoP3o__qRG"
      },
      "outputs": [],
      "source": [
        "import matplotlib.pyplot as plt\n",
        "import seaborn as sns\n",
        "import pandas as pd\n",
        "import numpy as np"
      ]
    },
    {
      "cell_type": "markdown",
      "metadata": {
        "id": "Ct8pI1uE_qRG"
      },
      "source": [
        "### Problems\n",
        "\n",
        "Use the prompts below to get started with your data analysis.  \n",
        "\n",
        "1. Read in the `coupons.csv` file.\n",
        "\n",
        "\n"
      ]
    },
    {
      "cell_type": "code",
      "execution_count": 5,
      "metadata": {
        "id": "X0vbffYg_qRH"
      },
      "outputs": [],
      "source": [
        "data = pd.read_csv('/content/coupons.csv')"
      ]
    },
    {
      "cell_type": "code",
      "execution_count": 6,
      "metadata": {
        "id": "TXofQ_DF_qRH",
        "outputId": "12f77bce-1835-4737-fbd8-6961be1cfb84",
        "colab": {
          "base_uri": "https://localhost:8080/",
          "height": 342
        }
      },
      "outputs": [
        {
          "output_type": "execute_result",
          "data": {
            "text/plain": [
              "       destination  passanger weather  temperature  time  \\\n",
              "0  No Urgent Place      Alone   Sunny           55   2PM   \n",
              "1  No Urgent Place  Friend(s)   Sunny           80  10AM   \n",
              "2  No Urgent Place  Friend(s)   Sunny           80  10AM   \n",
              "3  No Urgent Place  Friend(s)   Sunny           80   2PM   \n",
              "4  No Urgent Place  Friend(s)   Sunny           80   2PM   \n",
              "\n",
              "                  coupon expiration  gender age      maritalStatus  ...  \\\n",
              "0        Restaurant(<20)         1d  Female  21  Unmarried partner  ...   \n",
              "1           Coffee House         2h  Female  21  Unmarried partner  ...   \n",
              "2  Carry out & Take away         2h  Female  21  Unmarried partner  ...   \n",
              "3           Coffee House         2h  Female  21  Unmarried partner  ...   \n",
              "4           Coffee House         1d  Female  21  Unmarried partner  ...   \n",
              "\n",
              "   CoffeeHouse CarryAway RestaurantLessThan20 Restaurant20To50  \\\n",
              "0        never       NaN                  4~8              1~3   \n",
              "1        never       NaN                  4~8              1~3   \n",
              "2        never       NaN                  4~8              1~3   \n",
              "3        never       NaN                  4~8              1~3   \n",
              "4        never       NaN                  4~8              1~3   \n",
              "\n",
              "  toCoupon_GEQ5min toCoupon_GEQ15min toCoupon_GEQ25min direction_same  \\\n",
              "0                1                 0                 0              0   \n",
              "1                1                 0                 0              0   \n",
              "2                1                 1                 0              0   \n",
              "3                1                 1                 0              0   \n",
              "4                1                 1                 0              0   \n",
              "\n",
              "  direction_opp  Y  \n",
              "0             1  1  \n",
              "1             1  0  \n",
              "2             1  1  \n",
              "3             1  0  \n",
              "4             1  0  \n",
              "\n",
              "[5 rows x 26 columns]"
            ],
            "text/html": [
              "\n",
              "  <div id=\"df-eaa3c7a8-18a8-485d-ad53-964ded8b907f\" class=\"colab-df-container\">\n",
              "    <div>\n",
              "<style scoped>\n",
              "    .dataframe tbody tr th:only-of-type {\n",
              "        vertical-align: middle;\n",
              "    }\n",
              "\n",
              "    .dataframe tbody tr th {\n",
              "        vertical-align: top;\n",
              "    }\n",
              "\n",
              "    .dataframe thead th {\n",
              "        text-align: right;\n",
              "    }\n",
              "</style>\n",
              "<table border=\"1\" class=\"dataframe\">\n",
              "  <thead>\n",
              "    <tr style=\"text-align: right;\">\n",
              "      <th></th>\n",
              "      <th>destination</th>\n",
              "      <th>passanger</th>\n",
              "      <th>weather</th>\n",
              "      <th>temperature</th>\n",
              "      <th>time</th>\n",
              "      <th>coupon</th>\n",
              "      <th>expiration</th>\n",
              "      <th>gender</th>\n",
              "      <th>age</th>\n",
              "      <th>maritalStatus</th>\n",
              "      <th>...</th>\n",
              "      <th>CoffeeHouse</th>\n",
              "      <th>CarryAway</th>\n",
              "      <th>RestaurantLessThan20</th>\n",
              "      <th>Restaurant20To50</th>\n",
              "      <th>toCoupon_GEQ5min</th>\n",
              "      <th>toCoupon_GEQ15min</th>\n",
              "      <th>toCoupon_GEQ25min</th>\n",
              "      <th>direction_same</th>\n",
              "      <th>direction_opp</th>\n",
              "      <th>Y</th>\n",
              "    </tr>\n",
              "  </thead>\n",
              "  <tbody>\n",
              "    <tr>\n",
              "      <th>0</th>\n",
              "      <td>No Urgent Place</td>\n",
              "      <td>Alone</td>\n",
              "      <td>Sunny</td>\n",
              "      <td>55</td>\n",
              "      <td>2PM</td>\n",
              "      <td>Restaurant(&lt;20)</td>\n",
              "      <td>1d</td>\n",
              "      <td>Female</td>\n",
              "      <td>21</td>\n",
              "      <td>Unmarried partner</td>\n",
              "      <td>...</td>\n",
              "      <td>never</td>\n",
              "      <td>NaN</td>\n",
              "      <td>4~8</td>\n",
              "      <td>1~3</td>\n",
              "      <td>1</td>\n",
              "      <td>0</td>\n",
              "      <td>0</td>\n",
              "      <td>0</td>\n",
              "      <td>1</td>\n",
              "      <td>1</td>\n",
              "    </tr>\n",
              "    <tr>\n",
              "      <th>1</th>\n",
              "      <td>No Urgent Place</td>\n",
              "      <td>Friend(s)</td>\n",
              "      <td>Sunny</td>\n",
              "      <td>80</td>\n",
              "      <td>10AM</td>\n",
              "      <td>Coffee House</td>\n",
              "      <td>2h</td>\n",
              "      <td>Female</td>\n",
              "      <td>21</td>\n",
              "      <td>Unmarried partner</td>\n",
              "      <td>...</td>\n",
              "      <td>never</td>\n",
              "      <td>NaN</td>\n",
              "      <td>4~8</td>\n",
              "      <td>1~3</td>\n",
              "      <td>1</td>\n",
              "      <td>0</td>\n",
              "      <td>0</td>\n",
              "      <td>0</td>\n",
              "      <td>1</td>\n",
              "      <td>0</td>\n",
              "    </tr>\n",
              "    <tr>\n",
              "      <th>2</th>\n",
              "      <td>No Urgent Place</td>\n",
              "      <td>Friend(s)</td>\n",
              "      <td>Sunny</td>\n",
              "      <td>80</td>\n",
              "      <td>10AM</td>\n",
              "      <td>Carry out &amp; Take away</td>\n",
              "      <td>2h</td>\n",
              "      <td>Female</td>\n",
              "      <td>21</td>\n",
              "      <td>Unmarried partner</td>\n",
              "      <td>...</td>\n",
              "      <td>never</td>\n",
              "      <td>NaN</td>\n",
              "      <td>4~8</td>\n",
              "      <td>1~3</td>\n",
              "      <td>1</td>\n",
              "      <td>1</td>\n",
              "      <td>0</td>\n",
              "      <td>0</td>\n",
              "      <td>1</td>\n",
              "      <td>1</td>\n",
              "    </tr>\n",
              "    <tr>\n",
              "      <th>3</th>\n",
              "      <td>No Urgent Place</td>\n",
              "      <td>Friend(s)</td>\n",
              "      <td>Sunny</td>\n",
              "      <td>80</td>\n",
              "      <td>2PM</td>\n",
              "      <td>Coffee House</td>\n",
              "      <td>2h</td>\n",
              "      <td>Female</td>\n",
              "      <td>21</td>\n",
              "      <td>Unmarried partner</td>\n",
              "      <td>...</td>\n",
              "      <td>never</td>\n",
              "      <td>NaN</td>\n",
              "      <td>4~8</td>\n",
              "      <td>1~3</td>\n",
              "      <td>1</td>\n",
              "      <td>1</td>\n",
              "      <td>0</td>\n",
              "      <td>0</td>\n",
              "      <td>1</td>\n",
              "      <td>0</td>\n",
              "    </tr>\n",
              "    <tr>\n",
              "      <th>4</th>\n",
              "      <td>No Urgent Place</td>\n",
              "      <td>Friend(s)</td>\n",
              "      <td>Sunny</td>\n",
              "      <td>80</td>\n",
              "      <td>2PM</td>\n",
              "      <td>Coffee House</td>\n",
              "      <td>1d</td>\n",
              "      <td>Female</td>\n",
              "      <td>21</td>\n",
              "      <td>Unmarried partner</td>\n",
              "      <td>...</td>\n",
              "      <td>never</td>\n",
              "      <td>NaN</td>\n",
              "      <td>4~8</td>\n",
              "      <td>1~3</td>\n",
              "      <td>1</td>\n",
              "      <td>1</td>\n",
              "      <td>0</td>\n",
              "      <td>0</td>\n",
              "      <td>1</td>\n",
              "      <td>0</td>\n",
              "    </tr>\n",
              "  </tbody>\n",
              "</table>\n",
              "<p>5 rows × 26 columns</p>\n",
              "</div>\n",
              "    <div class=\"colab-df-buttons\">\n",
              "\n",
              "  <div class=\"colab-df-container\">\n",
              "    <button class=\"colab-df-convert\" onclick=\"convertToInteractive('df-eaa3c7a8-18a8-485d-ad53-964ded8b907f')\"\n",
              "            title=\"Convert this dataframe to an interactive table.\"\n",
              "            style=\"display:none;\">\n",
              "\n",
              "  <svg xmlns=\"http://www.w3.org/2000/svg\" height=\"24px\" viewBox=\"0 -960 960 960\">\n",
              "    <path d=\"M120-120v-720h720v720H120Zm60-500h600v-160H180v160Zm220 220h160v-160H400v160Zm0 220h160v-160H400v160ZM180-400h160v-160H180v160Zm440 0h160v-160H620v160ZM180-180h160v-160H180v160Zm440 0h160v-160H620v160Z\"/>\n",
              "  </svg>\n",
              "    </button>\n",
              "\n",
              "  <style>\n",
              "    .colab-df-container {\n",
              "      display:flex;\n",
              "      gap: 12px;\n",
              "    }\n",
              "\n",
              "    .colab-df-convert {\n",
              "      background-color: #E8F0FE;\n",
              "      border: none;\n",
              "      border-radius: 50%;\n",
              "      cursor: pointer;\n",
              "      display: none;\n",
              "      fill: #1967D2;\n",
              "      height: 32px;\n",
              "      padding: 0 0 0 0;\n",
              "      width: 32px;\n",
              "    }\n",
              "\n",
              "    .colab-df-convert:hover {\n",
              "      background-color: #E2EBFA;\n",
              "      box-shadow: 0px 1px 2px rgba(60, 64, 67, 0.3), 0px 1px 3px 1px rgba(60, 64, 67, 0.15);\n",
              "      fill: #174EA6;\n",
              "    }\n",
              "\n",
              "    .colab-df-buttons div {\n",
              "      margin-bottom: 4px;\n",
              "    }\n",
              "\n",
              "    [theme=dark] .colab-df-convert {\n",
              "      background-color: #3B4455;\n",
              "      fill: #D2E3FC;\n",
              "    }\n",
              "\n",
              "    [theme=dark] .colab-df-convert:hover {\n",
              "      background-color: #434B5C;\n",
              "      box-shadow: 0px 1px 3px 1px rgba(0, 0, 0, 0.15);\n",
              "      filter: drop-shadow(0px 1px 2px rgba(0, 0, 0, 0.3));\n",
              "      fill: #FFFFFF;\n",
              "    }\n",
              "  </style>\n",
              "\n",
              "    <script>\n",
              "      const buttonEl =\n",
              "        document.querySelector('#df-eaa3c7a8-18a8-485d-ad53-964ded8b907f button.colab-df-convert');\n",
              "      buttonEl.style.display =\n",
              "        google.colab.kernel.accessAllowed ? 'block' : 'none';\n",
              "\n",
              "      async function convertToInteractive(key) {\n",
              "        const element = document.querySelector('#df-eaa3c7a8-18a8-485d-ad53-964ded8b907f');\n",
              "        const dataTable =\n",
              "          await google.colab.kernel.invokeFunction('convertToInteractive',\n",
              "                                                    [key], {});\n",
              "        if (!dataTable) return;\n",
              "\n",
              "        const docLinkHtml = 'Like what you see? Visit the ' +\n",
              "          '<a target=\"_blank\" href=https://colab.research.google.com/notebooks/data_table.ipynb>data table notebook</a>'\n",
              "          + ' to learn more about interactive tables.';\n",
              "        element.innerHTML = '';\n",
              "        dataTable['output_type'] = 'display_data';\n",
              "        await google.colab.output.renderOutput(dataTable, element);\n",
              "        const docLink = document.createElement('div');\n",
              "        docLink.innerHTML = docLinkHtml;\n",
              "        element.appendChild(docLink);\n",
              "      }\n",
              "    </script>\n",
              "  </div>\n",
              "\n",
              "\n",
              "<div id=\"df-c37c21d8-f135-431d-b358-902bc7b125e9\">\n",
              "  <button class=\"colab-df-quickchart\" onclick=\"quickchart('df-c37c21d8-f135-431d-b358-902bc7b125e9')\"\n",
              "            title=\"Suggest charts\"\n",
              "            style=\"display:none;\">\n",
              "\n",
              "<svg xmlns=\"http://www.w3.org/2000/svg\" height=\"24px\"viewBox=\"0 0 24 24\"\n",
              "     width=\"24px\">\n",
              "    <g>\n",
              "        <path d=\"M19 3H5c-1.1 0-2 .9-2 2v14c0 1.1.9 2 2 2h14c1.1 0 2-.9 2-2V5c0-1.1-.9-2-2-2zM9 17H7v-7h2v7zm4 0h-2V7h2v10zm4 0h-2v-4h2v4z\"/>\n",
              "    </g>\n",
              "</svg>\n",
              "  </button>\n",
              "\n",
              "<style>\n",
              "  .colab-df-quickchart {\n",
              "      --bg-color: #E8F0FE;\n",
              "      --fill-color: #1967D2;\n",
              "      --hover-bg-color: #E2EBFA;\n",
              "      --hover-fill-color: #174EA6;\n",
              "      --disabled-fill-color: #AAA;\n",
              "      --disabled-bg-color: #DDD;\n",
              "  }\n",
              "\n",
              "  [theme=dark] .colab-df-quickchart {\n",
              "      --bg-color: #3B4455;\n",
              "      --fill-color: #D2E3FC;\n",
              "      --hover-bg-color: #434B5C;\n",
              "      --hover-fill-color: #FFFFFF;\n",
              "      --disabled-bg-color: #3B4455;\n",
              "      --disabled-fill-color: #666;\n",
              "  }\n",
              "\n",
              "  .colab-df-quickchart {\n",
              "    background-color: var(--bg-color);\n",
              "    border: none;\n",
              "    border-radius: 50%;\n",
              "    cursor: pointer;\n",
              "    display: none;\n",
              "    fill: var(--fill-color);\n",
              "    height: 32px;\n",
              "    padding: 0;\n",
              "    width: 32px;\n",
              "  }\n",
              "\n",
              "  .colab-df-quickchart:hover {\n",
              "    background-color: var(--hover-bg-color);\n",
              "    box-shadow: 0 1px 2px rgba(60, 64, 67, 0.3), 0 1px 3px 1px rgba(60, 64, 67, 0.15);\n",
              "    fill: var(--button-hover-fill-color);\n",
              "  }\n",
              "\n",
              "  .colab-df-quickchart-complete:disabled,\n",
              "  .colab-df-quickchart-complete:disabled:hover {\n",
              "    background-color: var(--disabled-bg-color);\n",
              "    fill: var(--disabled-fill-color);\n",
              "    box-shadow: none;\n",
              "  }\n",
              "\n",
              "  .colab-df-spinner {\n",
              "    border: 2px solid var(--fill-color);\n",
              "    border-color: transparent;\n",
              "    border-bottom-color: var(--fill-color);\n",
              "    animation:\n",
              "      spin 1s steps(1) infinite;\n",
              "  }\n",
              "\n",
              "  @keyframes spin {\n",
              "    0% {\n",
              "      border-color: transparent;\n",
              "      border-bottom-color: var(--fill-color);\n",
              "      border-left-color: var(--fill-color);\n",
              "    }\n",
              "    20% {\n",
              "      border-color: transparent;\n",
              "      border-left-color: var(--fill-color);\n",
              "      border-top-color: var(--fill-color);\n",
              "    }\n",
              "    30% {\n",
              "      border-color: transparent;\n",
              "      border-left-color: var(--fill-color);\n",
              "      border-top-color: var(--fill-color);\n",
              "      border-right-color: var(--fill-color);\n",
              "    }\n",
              "    40% {\n",
              "      border-color: transparent;\n",
              "      border-right-color: var(--fill-color);\n",
              "      border-top-color: var(--fill-color);\n",
              "    }\n",
              "    60% {\n",
              "      border-color: transparent;\n",
              "      border-right-color: var(--fill-color);\n",
              "    }\n",
              "    80% {\n",
              "      border-color: transparent;\n",
              "      border-right-color: var(--fill-color);\n",
              "      border-bottom-color: var(--fill-color);\n",
              "    }\n",
              "    90% {\n",
              "      border-color: transparent;\n",
              "      border-bottom-color: var(--fill-color);\n",
              "    }\n",
              "  }\n",
              "</style>\n",
              "\n",
              "  <script>\n",
              "    async function quickchart(key) {\n",
              "      const quickchartButtonEl =\n",
              "        document.querySelector('#' + key + ' button');\n",
              "      quickchartButtonEl.disabled = true;  // To prevent multiple clicks.\n",
              "      quickchartButtonEl.classList.add('colab-df-spinner');\n",
              "      try {\n",
              "        const charts = await google.colab.kernel.invokeFunction(\n",
              "            'suggestCharts', [key], {});\n",
              "      } catch (error) {\n",
              "        console.error('Error during call to suggestCharts:', error);\n",
              "      }\n",
              "      quickchartButtonEl.classList.remove('colab-df-spinner');\n",
              "      quickchartButtonEl.classList.add('colab-df-quickchart-complete');\n",
              "    }\n",
              "    (() => {\n",
              "      let quickchartButtonEl =\n",
              "        document.querySelector('#df-c37c21d8-f135-431d-b358-902bc7b125e9 button');\n",
              "      quickchartButtonEl.style.display =\n",
              "        google.colab.kernel.accessAllowed ? 'block' : 'none';\n",
              "    })();\n",
              "  </script>\n",
              "</div>\n",
              "\n",
              "    </div>\n",
              "  </div>\n"
            ],
            "application/vnd.google.colaboratory.intrinsic+json": {
              "type": "dataframe",
              "variable_name": "data"
            }
          },
          "metadata": {},
          "execution_count": 6
        }
      ],
      "source": [
        "data.head()"
      ]
    },
    {
      "cell_type": "markdown",
      "metadata": {
        "id": "GcDs78ZH_qRH"
      },
      "source": [
        "2. Investigate the dataset for missing or problematic data."
      ]
    },
    {
      "cell_type": "code",
      "execution_count": 7,
      "metadata": {
        "id": "6CwL6oWj_qRH",
        "colab": {
          "base_uri": "https://localhost:8080/",
          "height": 899
        },
        "outputId": "3bd58f4b-e26f-4e93-e746-4641accfe4f0"
      },
      "outputs": [
        {
          "output_type": "execute_result",
          "data": {
            "text/plain": [
              "destination                 0\n",
              "passanger                   0\n",
              "weather                     0\n",
              "temperature                 0\n",
              "time                        0\n",
              "coupon                      0\n",
              "expiration                  0\n",
              "gender                      0\n",
              "age                         0\n",
              "maritalStatus               0\n",
              "has_children                0\n",
              "education                   0\n",
              "occupation                  0\n",
              "income                      0\n",
              "car                     12576\n",
              "Bar                       107\n",
              "CoffeeHouse               217\n",
              "CarryAway                 151\n",
              "RestaurantLessThan20      130\n",
              "Restaurant20To50          189\n",
              "toCoupon_GEQ5min            0\n",
              "toCoupon_GEQ15min           0\n",
              "toCoupon_GEQ25min           0\n",
              "direction_same              0\n",
              "direction_opp               0\n",
              "Y                           0\n",
              "dtype: int64"
            ],
            "text/html": [
              "<div>\n",
              "<style scoped>\n",
              "    .dataframe tbody tr th:only-of-type {\n",
              "        vertical-align: middle;\n",
              "    }\n",
              "\n",
              "    .dataframe tbody tr th {\n",
              "        vertical-align: top;\n",
              "    }\n",
              "\n",
              "    .dataframe thead th {\n",
              "        text-align: right;\n",
              "    }\n",
              "</style>\n",
              "<table border=\"1\" class=\"dataframe\">\n",
              "  <thead>\n",
              "    <tr style=\"text-align: right;\">\n",
              "      <th></th>\n",
              "      <th>0</th>\n",
              "    </tr>\n",
              "  </thead>\n",
              "  <tbody>\n",
              "    <tr>\n",
              "      <th>destination</th>\n",
              "      <td>0</td>\n",
              "    </tr>\n",
              "    <tr>\n",
              "      <th>passanger</th>\n",
              "      <td>0</td>\n",
              "    </tr>\n",
              "    <tr>\n",
              "      <th>weather</th>\n",
              "      <td>0</td>\n",
              "    </tr>\n",
              "    <tr>\n",
              "      <th>temperature</th>\n",
              "      <td>0</td>\n",
              "    </tr>\n",
              "    <tr>\n",
              "      <th>time</th>\n",
              "      <td>0</td>\n",
              "    </tr>\n",
              "    <tr>\n",
              "      <th>coupon</th>\n",
              "      <td>0</td>\n",
              "    </tr>\n",
              "    <tr>\n",
              "      <th>expiration</th>\n",
              "      <td>0</td>\n",
              "    </tr>\n",
              "    <tr>\n",
              "      <th>gender</th>\n",
              "      <td>0</td>\n",
              "    </tr>\n",
              "    <tr>\n",
              "      <th>age</th>\n",
              "      <td>0</td>\n",
              "    </tr>\n",
              "    <tr>\n",
              "      <th>maritalStatus</th>\n",
              "      <td>0</td>\n",
              "    </tr>\n",
              "    <tr>\n",
              "      <th>has_children</th>\n",
              "      <td>0</td>\n",
              "    </tr>\n",
              "    <tr>\n",
              "      <th>education</th>\n",
              "      <td>0</td>\n",
              "    </tr>\n",
              "    <tr>\n",
              "      <th>occupation</th>\n",
              "      <td>0</td>\n",
              "    </tr>\n",
              "    <tr>\n",
              "      <th>income</th>\n",
              "      <td>0</td>\n",
              "    </tr>\n",
              "    <tr>\n",
              "      <th>car</th>\n",
              "      <td>12576</td>\n",
              "    </tr>\n",
              "    <tr>\n",
              "      <th>Bar</th>\n",
              "      <td>107</td>\n",
              "    </tr>\n",
              "    <tr>\n",
              "      <th>CoffeeHouse</th>\n",
              "      <td>217</td>\n",
              "    </tr>\n",
              "    <tr>\n",
              "      <th>CarryAway</th>\n",
              "      <td>151</td>\n",
              "    </tr>\n",
              "    <tr>\n",
              "      <th>RestaurantLessThan20</th>\n",
              "      <td>130</td>\n",
              "    </tr>\n",
              "    <tr>\n",
              "      <th>Restaurant20To50</th>\n",
              "      <td>189</td>\n",
              "    </tr>\n",
              "    <tr>\n",
              "      <th>toCoupon_GEQ5min</th>\n",
              "      <td>0</td>\n",
              "    </tr>\n",
              "    <tr>\n",
              "      <th>toCoupon_GEQ15min</th>\n",
              "      <td>0</td>\n",
              "    </tr>\n",
              "    <tr>\n",
              "      <th>toCoupon_GEQ25min</th>\n",
              "      <td>0</td>\n",
              "    </tr>\n",
              "    <tr>\n",
              "      <th>direction_same</th>\n",
              "      <td>0</td>\n",
              "    </tr>\n",
              "    <tr>\n",
              "      <th>direction_opp</th>\n",
              "      <td>0</td>\n",
              "    </tr>\n",
              "    <tr>\n",
              "      <th>Y</th>\n",
              "      <td>0</td>\n",
              "    </tr>\n",
              "  </tbody>\n",
              "</table>\n",
              "</div><br><label><b>dtype:</b> int64</label>"
            ]
          },
          "metadata": {},
          "execution_count": 7
        }
      ],
      "source": [
        "data.isnull().sum()"
      ]
    },
    {
      "cell_type": "markdown",
      "metadata": {
        "id": "bSdVSpYB_qRH"
      },
      "source": [
        "3. Decide what to do about your missing data -- drop, replace, other..."
      ]
    },
    {
      "cell_type": "code",
      "source": [
        "data = data.dropna(axis =0, subset = ['Bar','CoffeeHouse','CarryAway','RestaurantLessThan20','Restaurant20To50'])\n",
        "data = data.drop('car', axis=1)\n",
        "data.isnull().sum()"
      ],
      "metadata": {
        "id": "hy6MrvCPOYDp",
        "colab": {
          "base_uri": "https://localhost:8080/",
          "height": 867
        },
        "outputId": "fce3e255-b338-478c-e7bd-188912933817"
      },
      "execution_count": 8,
      "outputs": [
        {
          "output_type": "execute_result",
          "data": {
            "text/plain": [
              "destination             0\n",
              "passanger               0\n",
              "weather                 0\n",
              "temperature             0\n",
              "time                    0\n",
              "coupon                  0\n",
              "expiration              0\n",
              "gender                  0\n",
              "age                     0\n",
              "maritalStatus           0\n",
              "has_children            0\n",
              "education               0\n",
              "occupation              0\n",
              "income                  0\n",
              "Bar                     0\n",
              "CoffeeHouse             0\n",
              "CarryAway               0\n",
              "RestaurantLessThan20    0\n",
              "Restaurant20To50        0\n",
              "toCoupon_GEQ5min        0\n",
              "toCoupon_GEQ15min       0\n",
              "toCoupon_GEQ25min       0\n",
              "direction_same          0\n",
              "direction_opp           0\n",
              "Y                       0\n",
              "dtype: int64"
            ],
            "text/html": [
              "<div>\n",
              "<style scoped>\n",
              "    .dataframe tbody tr th:only-of-type {\n",
              "        vertical-align: middle;\n",
              "    }\n",
              "\n",
              "    .dataframe tbody tr th {\n",
              "        vertical-align: top;\n",
              "    }\n",
              "\n",
              "    .dataframe thead th {\n",
              "        text-align: right;\n",
              "    }\n",
              "</style>\n",
              "<table border=\"1\" class=\"dataframe\">\n",
              "  <thead>\n",
              "    <tr style=\"text-align: right;\">\n",
              "      <th></th>\n",
              "      <th>0</th>\n",
              "    </tr>\n",
              "  </thead>\n",
              "  <tbody>\n",
              "    <tr>\n",
              "      <th>destination</th>\n",
              "      <td>0</td>\n",
              "    </tr>\n",
              "    <tr>\n",
              "      <th>passanger</th>\n",
              "      <td>0</td>\n",
              "    </tr>\n",
              "    <tr>\n",
              "      <th>weather</th>\n",
              "      <td>0</td>\n",
              "    </tr>\n",
              "    <tr>\n",
              "      <th>temperature</th>\n",
              "      <td>0</td>\n",
              "    </tr>\n",
              "    <tr>\n",
              "      <th>time</th>\n",
              "      <td>0</td>\n",
              "    </tr>\n",
              "    <tr>\n",
              "      <th>coupon</th>\n",
              "      <td>0</td>\n",
              "    </tr>\n",
              "    <tr>\n",
              "      <th>expiration</th>\n",
              "      <td>0</td>\n",
              "    </tr>\n",
              "    <tr>\n",
              "      <th>gender</th>\n",
              "      <td>0</td>\n",
              "    </tr>\n",
              "    <tr>\n",
              "      <th>age</th>\n",
              "      <td>0</td>\n",
              "    </tr>\n",
              "    <tr>\n",
              "      <th>maritalStatus</th>\n",
              "      <td>0</td>\n",
              "    </tr>\n",
              "    <tr>\n",
              "      <th>has_children</th>\n",
              "      <td>0</td>\n",
              "    </tr>\n",
              "    <tr>\n",
              "      <th>education</th>\n",
              "      <td>0</td>\n",
              "    </tr>\n",
              "    <tr>\n",
              "      <th>occupation</th>\n",
              "      <td>0</td>\n",
              "    </tr>\n",
              "    <tr>\n",
              "      <th>income</th>\n",
              "      <td>0</td>\n",
              "    </tr>\n",
              "    <tr>\n",
              "      <th>Bar</th>\n",
              "      <td>0</td>\n",
              "    </tr>\n",
              "    <tr>\n",
              "      <th>CoffeeHouse</th>\n",
              "      <td>0</td>\n",
              "    </tr>\n",
              "    <tr>\n",
              "      <th>CarryAway</th>\n",
              "      <td>0</td>\n",
              "    </tr>\n",
              "    <tr>\n",
              "      <th>RestaurantLessThan20</th>\n",
              "      <td>0</td>\n",
              "    </tr>\n",
              "    <tr>\n",
              "      <th>Restaurant20To50</th>\n",
              "      <td>0</td>\n",
              "    </tr>\n",
              "    <tr>\n",
              "      <th>toCoupon_GEQ5min</th>\n",
              "      <td>0</td>\n",
              "    </tr>\n",
              "    <tr>\n",
              "      <th>toCoupon_GEQ15min</th>\n",
              "      <td>0</td>\n",
              "    </tr>\n",
              "    <tr>\n",
              "      <th>toCoupon_GEQ25min</th>\n",
              "      <td>0</td>\n",
              "    </tr>\n",
              "    <tr>\n",
              "      <th>direction_same</th>\n",
              "      <td>0</td>\n",
              "    </tr>\n",
              "    <tr>\n",
              "      <th>direction_opp</th>\n",
              "      <td>0</td>\n",
              "    </tr>\n",
              "    <tr>\n",
              "      <th>Y</th>\n",
              "      <td>0</td>\n",
              "    </tr>\n",
              "  </tbody>\n",
              "</table>\n",
              "</div><br><label><b>dtype:</b> int64</label>"
            ]
          },
          "metadata": {},
          "execution_count": 8
        }
      ]
    },
    {
      "cell_type": "markdown",
      "metadata": {
        "id": "YE6oJbXd_qRI"
      },
      "source": [
        "4. What proportion of the total observations chose to accept the coupon?\n",
        "\n"
      ]
    },
    {
      "cell_type": "code",
      "execution_count": 9,
      "metadata": {
        "id": "86GGqBTv_qRI",
        "colab": {
          "base_uri": "https://localhost:8080/"
        },
        "outputId": "cf7d7d34-91c3-48de-bf6d-120c9d89e382"
      },
      "outputs": [
        {
          "output_type": "execute_result",
          "data": {
            "text/plain": [
              "0.5693352098683666"
            ]
          },
          "metadata": {},
          "execution_count": 9
        }
      ],
      "source": [
        "data['Y'].mean()"
      ]
    },
    {
      "cell_type": "markdown",
      "metadata": {
        "id": "vflz0DoE_qRI"
      },
      "source": [
        "5. Use a bar plot to visualize the `coupon` column."
      ]
    },
    {
      "cell_type": "code",
      "source": [
        "sns.countplot(x='coupon', data=data)\n",
        "plt.show()"
      ],
      "metadata": {
        "id": "5vzAFIFaS8RT",
        "colab": {
          "base_uri": "https://localhost:8080/",
          "height": 454
        },
        "outputId": "a7eec3c3-a7f8-4827-b4a9-4227134f2d01"
      },
      "execution_count": 10,
      "outputs": [
        {
          "output_type": "display_data",
          "data": {
            "text/plain": [
              "<Figure size 640x480 with 1 Axes>"
            ],
            "image/png": "[encoded data removed]"
          },
          "metadata": {}
        }
      ]
    },
    {
      "cell_type": "markdown",
      "metadata": {
        "id": "Qw4lCyx2_qRI"
      },
      "source": [
        "6. Use a histogram to visualize the temperature column."
      ]
    },
    {
      "cell_type": "code",
      "execution_count": 11,
      "metadata": {
        "id": "Yg9Anv71_qRI",
        "colab": {
          "base_uri": "https://localhost:8080/",
          "height": 449
        },
        "outputId": "01bfa964-5a99-45e0-ef41-7a510cef8682"
      },
      "outputs": [
        {
          "output_type": "display_data",
          "data": {
            "text/plain": [
              "<Figure size 640x480 with 1 Axes>"
            ],
            "image/png": "[encoded data removed]"
          },
          "metadata": {}
        }
      ],
      "source": [
        "sns.histplot(data['temperature'])\n",
        "plt.show()"
      ]
    },
    {
      "cell_type": "markdown",
      "metadata": {
        "id": "FupfgeJk_qRJ"
      },
      "source": [
        "**Investigating the Bar Coupons**\n",
        "\n",
        "Now, we will lead you through an exploration of just the bar related coupons.  \n",
        "\n",
        "1. Create a new `DataFrame` that contains just the bar coupons.\n"
      ]
    },
    {
      "cell_type": "code",
      "execution_count": 12,
      "metadata": {
        "id": "tMBlWuGq_qRJ"
      },
      "outputs": [],
      "source": [
        "df_bar = data[data['coupon'] == 'Bar']"
      ]
    },
    {
      "cell_type": "markdown",
      "metadata": {
        "id": "8ue6uCqf_qRJ"
      },
      "source": [
        "2. What proportion of bar coupons were accepted?\n"
      ]
    },
    {
      "cell_type": "code",
      "execution_count": 13,
      "metadata": {
        "id": "hSdte8Mi_qRK",
        "colab": {
          "base_uri": "https://localhost:8080/"
        },
        "outputId": "ec270878-70ee-4f7a-d554-1e9fef78573a"
      },
      "outputs": [
        {
          "output_type": "execute_result",
          "data": {
            "text/plain": [
              "0.41191845269210664"
            ]
          },
          "metadata": {},
          "execution_count": 13
        }
      ],
      "source": [
        "df_bar['Y'].mean()"
      ]
    },
    {
      "cell_type": "markdown",
      "metadata": {
        "id": "85nA_iEi_qRK"
      },
      "source": [
        "3. Compare the acceptance rate between those who went to a bar 3 or fewer times a month to those who went more.\n"
      ]
    },
    {
      "cell_type": "code",
      "execution_count": 14,
      "metadata": {
        "id": "LBOrN-XM_qRK",
        "colab": {
          "base_uri": "https://localhost:8080/"
        },
        "outputId": "c9d9a9cc-22b0-41e3-ce41-a6464af4950a"
      },
      "outputs": [
        {
          "output_type": "stream",
          "name": "stdout",
          "text": [
            "0.37267441860465117\n",
            "0.7616580310880829\n"
          ]
        }
      ],
      "source": [
        "df_bar_less = df_bar[df_bar['Bar'].isin(['never','less1','1~3'])]\n",
        "df_bar_more = df_bar[~df_bar['Bar'].isin(['never','less1','1~3'])]\n",
        "\n",
        "df_bar_less_mean = df_bar_less['Y'].mean()\n",
        "df_bar_more_mean = df_bar_more['Y'].mean()\n",
        "\n",
        "print(df_bar_less_mean)\n",
        "print(df_bar_more_mean)"
      ]
    },
    {
      "cell_type": "markdown",
      "metadata": {
        "id": "RBgcQwH4_qRK"
      },
      "source": [
        "4. Compare the acceptance rate between drivers who go to a bar more than once a month and are over the age of 25 to the all others.  Is there a difference?\n"
      ]
    },
    {
      "cell_type": "markdown",
      "source": [],
      "metadata": {
        "id": "gJlZSLOgXwoX"
      }
    },
    {
      "cell_type": "code",
      "execution_count": 15,
      "metadata": {
        "id": "bf28bbeX_qRK",
        "colab": {
          "base_uri": "https://localhost:8080/"
        },
        "outputId": "5d50402f-6cbb-485b-e462-e0553c6edb4f"
      },
      "outputs": [
        {
          "output_type": "stream",
          "name": "stdout",
          "text": [
            "0.49473684210526314\n",
            "0.4134078212290503\n"
          ]
        }
      ],
      "source": [
        "df_bar_over25 = df_bar[(~df_bar['age'].isin(['21','below21']))&(~df_bar['Bar'].isin(['1~3','never']))]\n",
        "df_other = df_bar[~(df_bar['age'].isin(['21','below21']) & df_bar['Bar'].isin(['1~3','never']))]\n",
        "\n",
        "\n",
        "print(df_bar_over25['Y'].mean())\n",
        "print(df_other['Y'].mean())\n"
      ]
    },
    {
      "cell_type": "markdown",
      "metadata": {
        "id": "S4RKT4PJ_qRK"
      },
      "source": [
        "5. Use the same process to compare the acceptance rate between drivers who go to bars more than once a month and had passengers that were not a kid and had occupations other than farming, fishing, or forestry.\n"
      ]
    },
    {
      "cell_type": "code",
      "execution_count": 16,
      "metadata": {
        "id": "sENaI2Tg_qRK",
        "colab": {
          "base_uri": "https://localhost:8080/"
        },
        "outputId": "26d4f633-276f-4d28-8555-134d76de6ce7"
      },
      "outputs": [
        {
          "output_type": "execute_result",
          "data": {
            "text/plain": [
              "(0.40397350993377484, 0.4134078212290503)"
            ]
          },
          "metadata": {},
          "execution_count": 16
        }
      ],
      "source": [
        "#try a different method\n",
        "def get_mean(df,feature1,condition1,feature2,condition2):\n",
        "    df_1 = df[df[feature1].isin(condition1) & df[feature2].isin(condition2)]\n",
        "    df_other = df[~(df[feature1].isin(condition1) & df[feature2].isin(condition2))]\n",
        "    return df_1['Y'].mean(), df_other['Y'].mean()\n",
        "\n",
        "\n",
        "get_mean(df_bar, 'age', ['21','below21'], 'Bar', ['1~3','never'])"
      ]
    },
    {
      "cell_type": "markdown",
      "metadata": {
        "id": "n2LIUTil_qRK"
      },
      "source": [
        "6. Compare the acceptance rates between those drivers who:\n",
        "\n",
        "- go to bars more than once a month, had passengers that were not a kid, and were not widowed *OR*\n",
        "- go to bars more than once a month and are under the age of 30 *OR*\n",
        "- go to cheap restaurants more than 4 times a month and income is less than 50K.\n",
        "\n"
      ]
    },
    {
      "cell_type": "code",
      "source": [
        "df_bar_no_kid_not_widowed = df_bar[(~df_bar['Bar'].isin(['never', 'less1', '1~3'])) & (~df_bar['has_children'].isin(['kids'])) & (~df_bar['maritalStatus'].isin(['widowed']))]\n",
        "df_bar_under30 = df_bar[(~df_bar['Bar'].isin(['never', 'less1', '1~3'])) & (df_bar['age'].isin(['below21', '21', '26', '31', '36']))]\n",
        "df_cheap_rest_low_income = data[(data['RestaurantLessThan20'].isin(['4~8', 'gt8'])) & (data['income'].isin(['Less than $12500', '$12500 - $24999', '$25000 - $37499', '$37500 - $49999']))]\n",
        "\n",
        "acceptance_rate_bar_no_kid_not_widowed = df_bar_no_kid_not_widowed['Y'].mean()\n",
        "acceptance_rate_bar_under30 = df_bar_under30['Y'].mean()\n",
        "acceptance_rate_cheap_rest_low_income = df_cheap_rest_low_income['Y'].mean()\n",
        "\n",
        "print(\"Acceptance rate for drivers who go to bars more than once a month, had passengers that were not a kid, and were not widowed:\", acceptance_rate_bar_no_kid_not_widowed)\n",
        "print(\"Acceptance rate for drivers who go to bars more than once a month and are under the age of 30:\", acceptance_rate_bar_under30)\n",
        "print(\"Acceptance rate for drivers who go to cheap restaurants more than 4 times a month and income is less than 50K:\", acceptance_rate_cheap_rest_low_income)\n"
      ],
      "metadata": {
        "id": "u3w16R1Dgt33",
        "colab": {
          "base_uri": "https://localhost:8080/"
        },
        "outputId": "291808b2-b0cb-4dfe-e337-191c3f90c4bd"
      },
      "execution_count": 17,
      "outputs": [
        {
          "output_type": "stream",
          "name": "stdout",
          "text": [
            "Acceptance rate for drivers who go to bars more than once a month, had passengers that were not a kid, and were not widowed: 0.7616580310880829\n",
            "Acceptance rate for drivers who go to bars more than once a month and are under the age of 30: 0.7604790419161677\n",
            "Acceptance rate for drivers who go to cheap restaurants more than 4 times a month and income is less than 50K: 0.6025293586269196\n"
          ]
        }
      ]
    },
    {
      "cell_type": "markdown",
      "metadata": {
        "id": "v3fL3QkO_qRK"
      },
      "source": [
        "7.  Based on these observations, what do you hypothesize about drivers who accepted the bar coupons?"
      ]
    },
    {
      "cell_type": "code",
      "source": [
        "# prompt: calculate the acceptance rate for different groups from all attribute columns for df_bar\n",
        "\n",
        "# Loop through all columns in df_bar\n",
        "for column in df_bar.columns:\n",
        "  # Skip the 'Y' column (target variable)\n",
        "  if column != 'Y':\n",
        "    print(f\"\\nAcceptance rate for different groups in '{column}' column:\")\n",
        "    # Get unique values in the column\n",
        "    unique_values = df_bar[column].unique()\n",
        "    for value in unique_values:\n",
        "      # Filter the DataFrame based on the current value\n",
        "      df_group = df_bar[df_bar[column] == value]\n",
        "      # Calculate the acceptance rate for the group\n",
        "      acceptance_rate = df_group['Y'].mean()\n",
        "      # Print the acceptance rate for the group\n",
        "      print(f\"  - Group '{value}': {acceptance_rate:.3f}\")\n",
        "\n"
      ],
      "metadata": {
        "id": "yTLq5h9XuGa-",
        "colab": {
          "base_uri": "https://localhost:8080/"
        },
        "outputId": "94cc922b-5a32-470d-989a-8dbeea108c5f"
      },
      "execution_count": 18,
      "outputs": [
        {
          "output_type": "stream",
          "name": "stdout",
          "text": [
            "\n",
            "Acceptance rate for different groups in 'destination' column:\n",
            "  - Group 'No Urgent Place': 0.413\n",
            "  - Group 'Home': 0.452\n",
            "  - Group 'Work': 0.368\n",
            "\n",
            "Acceptance rate for different groups in 'passanger' column:\n",
            "  - Group 'Friend(s)': 0.566\n",
            "  - Group 'Alone': 0.409\n",
            "  - Group 'Kid(s)': 0.206\n",
            "  - Group 'Partner': 0.388\n",
            "\n",
            "Acceptance rate for different groups in 'weather' column:\n",
            "  - Group 'Sunny': 0.443\n",
            "  - Group 'Rainy': 0.363\n",
            "  - Group 'Snowy': 0.323\n",
            "\n",
            "Acceptance rate for different groups in 'temperature' column:\n",
            "  - Group '80': 0.410\n",
            "  - Group '55': 0.449\n",
            "  - Group '30': 0.330\n",
            "\n",
            "Acceptance rate for different groups in 'time' column:\n",
            "  - Group '10AM': 0.369\n",
            "  - Group '6PM': 0.462\n",
            "  - Group '7AM': 0.368\n",
            "  - Group '10PM': 0.463\n",
            "  - Group '2PM': 0.336\n",
            "\n",
            "Acceptance rate for different groups in 'coupon' column:\n",
            "  - Group 'Bar': 0.412\n",
            "\n",
            "Acceptance rate for different groups in 'expiration' column:\n",
            "  - Group '1d': 0.415\n",
            "  - Group '2h': 0.400\n",
            "\n",
            "Acceptance rate for different groups in 'gender' column:\n",
            "  - Group 'Male': 0.488\n",
            "  - Group 'Female': 0.342\n",
            "\n",
            "Acceptance rate for different groups in 'age' column:\n",
            "  - Group '21': 0.504\n",
            "  - Group '46': 0.369\n",
            "  - Group '26': 0.486\n",
            "  - Group '31': 0.377\n",
            "  - Group '41': 0.439\n",
            "  - Group '50plus': 0.293\n",
            "  - Group '36': 0.306\n",
            "  - Group 'below21': 0.420\n",
            "\n",
            "Acceptance rate for different groups in 'maritalStatus' column:\n",
            "  - Group 'Single': 0.553\n",
            "  - Group 'Married partner': 0.325\n",
            "  - Group 'Unmarried partner': 0.398\n",
            "  - Group 'Divorced': 0.233\n",
            "  - Group 'Widowed': 0.412\n",
            "\n",
            "Acceptance rate for different groups in 'has_children' column:\n",
            "  - Group '0': 0.498\n",
            "  - Group '1': 0.297\n",
            "\n",
            "Acceptance rate for different groups in 'education' column:\n",
            "  - Group 'Bachelors degree': 0.415\n",
            "  - Group 'Some college - no degree': 0.448\n",
            "  - Group 'Associates degree': 0.299\n",
            "  - Group 'High School Graduate': 0.406\n",
            "  - Group 'Graduate degree (Masters or Doctorate)': 0.370\n",
            "  - Group 'Some High School': 0.786\n",
            "\n",
            "Acceptance rate for different groups in 'occupation' column:\n",
            "  - Group 'Architecture & Engineering': 0.667\n",
            "  - Group 'Student': 0.481\n",
            "  - Group 'Education&Training&Library': 0.304\n",
            "  - Group 'Unemployed': 0.298\n",
            "  - Group 'Healthcare Support': 0.659\n",
            "  - Group 'Healthcare Practitioners & Technical': 0.444\n",
            "  - Group 'Sales & Related': 0.446\n",
            "  - Group 'Management': 0.556\n",
            "  - Group 'Arts Design Entertainment Sports & Media': 0.330\n",
            "  - Group 'Computer & Mathematical': 0.356\n",
            "  - Group 'Life Physical Social Science': 0.625\n",
            "  - Group 'Personal Care & Service': 0.400\n",
            "  - Group 'Office & Administrative Support': 0.495\n",
            "  - Group 'Construction & Extraction': 0.542\n",
            "  - Group 'Legal': 0.353\n",
            "  - Group 'Retired': 0.254\n",
            "  - Group 'Community & Social Services': 0.325\n",
            "  - Group 'Installation Maintenance & Repair': 0.444\n",
            "  - Group 'Transportation & Material Moving': 0.257\n",
            "  - Group 'Business & Financial': 0.500\n",
            "  - Group 'Protective Service': 0.481\n",
            "  - Group 'Food Preparation & Serving Related': 0.465\n",
            "  - Group 'Production Occupations': 0.688\n",
            "  - Group 'Building & Grounds Cleaning & Maintenance': 0.286\n",
            "  - Group 'Farming Fishing & Forestry': 0.444\n",
            "\n",
            "Acceptance rate for different groups in 'income' column:\n",
            "  - Group '$62500 - $74999': 0.357\n",
            "  - Group '$12500 - $24999': 0.421\n",
            "  - Group '$75000 - $87499': 0.378\n",
            "  - Group '$50000 - $62499': 0.406\n",
            "  - Group '$37500 - $49999': 0.364\n",
            "  - Group '$25000 - $37499': 0.453\n",
            "  - Group '$100000 or More': 0.479\n",
            "  - Group '$87500 - $99999': 0.293\n",
            "  - Group 'Less than $12500': 0.459\n",
            "\n",
            "Acceptance rate for different groups in 'Bar' column:\n",
            "  - Group 'never': 0.189\n",
            "  - Group 'less1': 0.447\n",
            "  - Group '1~3': 0.646\n",
            "  - Group 'gt8': 0.717\n",
            "  - Group '4~8': 0.776\n",
            "\n",
            "Acceptance rate for different groups in 'CoffeeHouse' column:\n",
            "  - Group 'less1': 0.378\n",
            "  - Group '4~8': 0.457\n",
            "  - Group '1~3': 0.461\n",
            "  - Group 'gt8': 0.448\n",
            "  - Group 'never': 0.358\n",
            "\n",
            "Acceptance rate for different groups in 'CarryAway' column:\n",
            "  - Group '4~8': 0.423\n",
            "  - Group '1~3': 0.415\n",
            "  - Group 'gt8': 0.431\n",
            "  - Group 'less1': 0.381\n",
            "  - Group 'never': 0.174\n",
            "\n",
            "Acceptance rate for different groups in 'RestaurantLessThan20' column:\n",
            "  - Group '4~8': 0.420\n",
            "  - Group '1~3': 0.403\n",
            "  - Group 'less1': 0.381\n",
            "  - Group 'gt8': 0.457\n",
            "  - Group 'never': 0.571\n",
            "\n",
            "Acceptance rate for different groups in 'Restaurant20To50' column:\n",
            "  - Group 'less1': 0.386\n",
            "  - Group 'never': 0.344\n",
            "  - Group '1~3': 0.438\n",
            "  - Group 'gt8': 0.629\n",
            "  - Group '4~8': 0.631\n",
            "\n",
            "Acceptance rate for different groups in 'toCoupon_GEQ5min' column:\n",
            "  - Group '1': 0.412\n",
            "\n",
            "Acceptance rate for different groups in 'toCoupon_GEQ15min' column:\n",
            "  - Group '0': 0.438\n",
            "  - Group '1': 0.399\n",
            "\n",
            "Acceptance rate for different groups in 'toCoupon_GEQ25min' column:\n",
            "  - Group '0': 0.419\n",
            "  - Group '1': 0.390\n",
            "\n",
            "Acceptance rate for different groups in 'direction_same' column:\n",
            "  - Group '0': 0.400\n",
            "  - Group '1': 0.455\n",
            "\n",
            "Acceptance rate for different groups in 'direction_opp' column:\n",
            "  - Group '1': 0.400\n",
            "  - Group '0': 0.455\n"
          ]
        }
      ]
    },
    {
      "cell_type": "markdown",
      "source": [
        "## Drivers with high probability to accept the coupon have the following characteristics:\n",
        "- destination is not work\n",
        "- passenger is not with kids or partner\n",
        "- weather is sunny\n",
        "- temperature is not too hot or too cold\n",
        "- Male is more likely to accept than female\n",
        "- age is less than 25\n",
        "- driver is not divorced or have a married partner, single particularly\n",
        "- with no kid\n",
        "- lower education tend to have higher tendency\n",
        "- The higher income, the less likely they accept the coupon\n",
        "- At least go to bar once a month"
      ],
      "metadata": {
        "id": "zuGP9DLEnyXH"
      }
    },
    {
      "cell_type": "markdown",
      "metadata": {
        "id": "r4Hu1zOb_qRL"
      },
      "source": [
        "### Independent Investigation\n",
        "\n",
        "Using the bar coupon example as motivation, you are to explore one of the other coupon groups and try to determine the characteristics of passengers who accept the coupons.  "
      ]
    },
    {
      "cell_type": "code",
      "execution_count": 19,
      "metadata": {
        "id": "0c71cQhu_qRL",
        "colab": {
          "base_uri": "https://localhost:8080/"
        },
        "outputId": "5d902843-1084-4ca4-b768-bc85c8c3e4ee"
      },
      "outputs": [
        {
          "output_type": "stream",
          "name": "stdout",
          "text": [
            "\n",
            "Acceptance rate for different groups in 'destination' column:\n",
            "  - Group 'No Urgent Place': 0.762\n",
            "  - Group 'Work': 0.661\n",
            "  - Group 'Home': 0.792\n",
            "\n",
            "Acceptance rate for different groups in 'passanger' column:\n",
            "  - Group 'Friend(s)': 0.760\n",
            "  - Group 'Alone': 0.732\n",
            "  - Group 'Kid(s)': 0.697\n",
            "  - Group 'Partner': 0.717\n",
            "\n",
            "Acceptance rate for different groups in 'weather' column:\n",
            "  - Group 'Sunny': 0.764\n",
            "  - Group 'Rainy': 0.611\n",
            "  - Group 'Snowy': 0.716\n",
            "\n",
            "Acceptance rate for different groups in 'temperature' column:\n",
            "  - Group '80': 0.731\n",
            "  - Group '55': 0.721\n",
            "  - Group '30': 0.761\n",
            "\n",
            "Acceptance rate for different groups in 'time' column:\n",
            "  - Group '10AM': 0.700\n",
            "  - Group '2PM': 0.866\n",
            "  - Group '7AM': 0.661\n",
            "  - Group '10PM': 0.768\n",
            "  - Group '6PM': 0.821\n",
            "\n",
            "Acceptance rate for different groups in 'coupon' column:\n",
            "  - Group 'Carry out & Take away': 0.738\n",
            "\n",
            "Acceptance rate for different groups in 'expiration' column:\n",
            "  - Group '2h': 0.663\n",
            "  - Group '1d': 0.786\n",
            "\n",
            "Acceptance rate for different groups in 'gender' column:\n",
            "  - Group 'Male': 0.762\n",
            "  - Group 'Female': 0.715\n",
            "\n",
            "Acceptance rate for different groups in 'age' column:\n",
            "  - Group '21': 0.740\n",
            "  - Group '46': 0.719\n",
            "  - Group '26': 0.735\n",
            "  - Group '31': 0.719\n",
            "  - Group '41': 0.730\n",
            "  - Group '50plus': 0.770\n",
            "  - Group '36': 0.745\n",
            "  - Group 'below21': 0.721\n",
            "\n",
            "Acceptance rate for different groups in 'maritalStatus' column:\n",
            "  - Group 'Single': 0.757\n",
            "  - Group 'Married partner': 0.729\n",
            "  - Group 'Unmarried partner': 0.709\n",
            "  - Group 'Divorced': 0.722\n",
            "  - Group 'Widowed': 0.850\n",
            "\n",
            "Acceptance rate for different groups in 'has_children' column:\n",
            "  - Group '0': 0.737\n",
            "  - Group '1': 0.739\n",
            "\n",
            "Acceptance rate for different groups in 'education' column:\n",
            "  - Group 'Bachelors degree': 0.721\n",
            "  - Group 'Some college - no degree': 0.761\n",
            "  - Group 'Associates degree': 0.832\n",
            "  - Group 'High School Graduate': 0.743\n",
            "  - Group 'Graduate degree (Masters or Doctorate)': 0.654\n",
            "  - Group 'Some High School': 0.938\n",
            "\n",
            "Acceptance rate for different groups in 'occupation' column:\n",
            "  - Group 'Architecture & Engineering': 0.633\n",
            "  - Group 'Student': 0.675\n",
            "  - Group 'Education&Training&Library': 0.701\n",
            "  - Group 'Unemployed': 0.752\n",
            "  - Group 'Healthcare Support': 0.833\n",
            "  - Group 'Healthcare Practitioners & Technical': 0.925\n",
            "  - Group 'Sales & Related': 0.717\n",
            "  - Group 'Management': 0.794\n",
            "  - Group 'Arts Design Entertainment Sports & Media': 0.693\n",
            "  - Group 'Computer & Mathematical': 0.713\n",
            "  - Group 'Life Physical Social Science': 0.500\n",
            "  - Group 'Personal Care & Service': 0.812\n",
            "  - Group 'Office & Administrative Support': 0.763\n",
            "  - Group 'Construction & Extraction': 0.964\n",
            "  - Group 'Legal': 0.537\n",
            "  - Group 'Retired': 0.702\n",
            "  - Group 'Community & Social Services': 0.727\n",
            "  - Group 'Installation Maintenance & Repair': 0.625\n",
            "  - Group 'Transportation & Material Moving': 0.816\n",
            "  - Group 'Business & Financial': 0.808\n",
            "  - Group 'Protective Service': 0.968\n",
            "  - Group 'Food Preparation & Serving Related': 0.828\n",
            "  - Group 'Production Occupations': 0.857\n",
            "  - Group 'Building & Grounds Cleaning & Maintenance': 1.000\n",
            "  - Group 'Farming Fishing & Forestry': 0.800\n",
            "\n",
            "Acceptance rate for different groups in 'income' column:\n",
            "  - Group '$62500 - $74999': 0.726\n",
            "  - Group '$12500 - $24999': 0.755\n",
            "  - Group '$75000 - $87499': 0.671\n",
            "  - Group '$50000 - $62499': 0.774\n",
            "  - Group '$37500 - $49999': 0.720\n",
            "  - Group '$25000 - $37499': 0.783\n",
            "  - Group '$100000 or More': 0.698\n",
            "  - Group '$87500 - $99999': 0.713\n",
            "  - Group 'Less than $12500': 0.749\n",
            "\n",
            "Acceptance rate for different groups in 'Bar' column:\n",
            "  - Group 'never': 0.752\n",
            "  - Group 'less1': 0.718\n",
            "  - Group '1~3': 0.762\n",
            "  - Group 'gt8': 0.556\n",
            "  - Group '4~8': 0.737\n",
            "\n",
            "Acceptance rate for different groups in 'CoffeeHouse' column:\n",
            "  - Group 'less1': 0.756\n",
            "  - Group '4~8': 0.732\n",
            "  - Group '1~3': 0.747\n",
            "  - Group 'gt8': 0.607\n",
            "  - Group 'never': 0.763\n",
            "\n",
            "Acceptance rate for different groups in 'CarryAway' column:\n",
            "  - Group '4~8': 0.754\n",
            "  - Group '1~3': 0.740\n",
            "  - Group 'gt8': 0.753\n",
            "  - Group 'less1': 0.679\n",
            "  - Group 'never': 0.786\n",
            "\n",
            "Acceptance rate for different groups in 'RestaurantLessThan20' column:\n",
            "  - Group '4~8': 0.746\n",
            "  - Group '1~3': 0.729\n",
            "  - Group 'less1': 0.724\n",
            "  - Group 'gt8': 0.755\n",
            "  - Group 'never': 0.865\n",
            "\n",
            "Acceptance rate for different groups in 'Restaurant20To50' column:\n",
            "  - Group 'less1': 0.738\n",
            "  - Group 'never': 0.735\n",
            "  - Group '1~3': 0.741\n",
            "  - Group 'gt8': 0.681\n",
            "  - Group '4~8': 0.743\n",
            "\n",
            "Acceptance rate for different groups in 'toCoupon_GEQ5min' column:\n",
            "  - Group '1': 0.738\n",
            "\n",
            "Acceptance rate for different groups in 'toCoupon_GEQ15min' column:\n",
            "  - Group '1': 0.729\n",
            "  - Group '0': 0.753\n",
            "\n",
            "Acceptance rate for different groups in 'toCoupon_GEQ25min' column:\n",
            "  - Group '0': 0.736\n",
            "  - Group '1': 0.751\n",
            "\n",
            "Acceptance rate for different groups in 'direction_same' column:\n",
            "  - Group '0': 0.754\n",
            "  - Group '1': 0.706\n",
            "\n",
            "Acceptance rate for different groups in 'direction_opp' column:\n",
            "  - Group '1': 0.754\n",
            "  - Group '0': 0.706\n"
          ]
        }
      ],
      "source": [
        "df_carry_out_take_away = data[data['coupon'] == 'Carry out & Take away']\n",
        "for column in df_carry_out_take_away.columns:\n",
        "  # Skip the 'Y' column (target variable)\n",
        "  if column != 'Y':\n",
        "    print(f\"\\nAcceptance rate for different groups in '{column}' column:\")\n",
        "    # Get unique values in the column\n",
        "    unique_values = df_carry_out_take_away[column].unique()\n",
        "    for value in unique_values:\n",
        "      # Filter the DataFrame based on the current value\n",
        "      df_group = df_carry_out_take_away[df_carry_out_take_away[column] == value]\n",
        "      # Calculate the acceptance rate for the group\n",
        "      acceptance_rate = df_group['Y'].mean()\n",
        "      # Print the acceptance rate for the group\n",
        "      print(f\"  - Group '{value}': {acceptance_rate:.3f}\")\n"
      ]
    },
    {
      "cell_type": "markdown",
      "source": [
        "# Driver who are more likely to accept coupons for Carry out & Take away have the following characteristics:\n",
        "- Destination: if the destination is work, drivers are less likely to accept but still with a high probability as 66%\n",
        "- Passengers: if the passengers are kis, the probability is a bit lower but still close to 70%\n",
        "- wheather: not rainy\n",
        "- time: not too early like 7AM\n",
        "- gender or age group have little influence on the probability\n",
        "- marrital status: widowed people are more likely to accept\n",
        "- Income: except for the group with extremly high income - more than 100k\n",
        "- frequency: at least to have carryout once a month"
      ],
      "metadata": {
        "id": "KlKPVVLyvhwz"
      }
    }
  ],
  "metadata": {
    "kernelspec": {
      "display_name": "Python 3 (ipykernel)",
      "language": "python",
      "name": "python3"
    },
    "language_info": {
      "codemirror_mode": {
        "name": "ipython",
        "version": 3
      },
      "file_extension": ".py",
      "mimetype": "text/x-python",
      "name": "python",
      "nbconvert_exporter": "python",
      "pygments_lexer": "ipython3",
      "version": "3.12.1"
    },
    "colab": {
      "provenance": [],
      "collapsed_sections": [
        "pG6_Ym6q_qRG"
      ]
    }
  },
  "nbformat": 4,
  "nbformat_minor": 0
}